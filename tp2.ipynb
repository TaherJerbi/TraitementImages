{
 "cells": [
  {
   "cell_type": "code",
   "execution_count": 6,
   "metadata": {},
   "outputs": [
    {
     "name": "stdout",
     "output_type": "stream",
     "text": [
      "[4. 0. 0. 0. 0. 0. 0.]\n",
      "[9. 0. 0. 0. 0. 0. 0.]\n",
      "[9. 5. 0. 0. 0. 0. 0.]\n",
      "[9. 9. 0. 0. 0. 0. 0.]\n",
      "[9. 9. 4. 0. 0. 0. 0.]\n",
      "[9. 9. 4. 7. 0. 0. 0.]\n",
      "[ 9.  9.  4. 16.  0.  0.  0.]\n",
      "[ 9.  9.  4. 16.  0.  0.  0.]\n"
     ]
    }
   ],
   "source": [
    "import numpy as np\n",
    "\n",
    "\n",
    "def test():\n",
    "    h_arr = [4,5,5,4,4,7,9]\n",
    "    n1_arr = [0,0,1,1,2,3,3]\n",
    "    heg_arr = np.zeros(7)\n",
    "\n",
    "    for i in range(len(h_arr)):\n",
    "            j = n1_arr[i]\n",
    "            heg_arr[j] += h_arr[i]\n",
    "            print(heg_arr)\n",
    "    return heg_arr\n",
    "print(test())"
   ]
  }
 ],
 "metadata": {
  "kernelspec": {
   "display_name": "Python 3.8.9 64-bit",
   "language": "python",
   "name": "python3"
  },
  "language_info": {
   "codemirror_mode": {
    "name": "ipython",
    "version": 3
   },
   "file_extension": ".py",
   "mimetype": "text/x-python",
   "name": "python",
   "nbconvert_exporter": "python",
   "pygments_lexer": "ipython3",
   "version": "3.8.9"
  },
  "orig_nbformat": 4,
  "vscode": {
   "interpreter": {
    "hash": "31f2aee4e71d21fbe5cf8b01ff0e069b9275f58929596ceb00d14d90e3e16cd6"
   }
  }
 },
 "nbformat": 4,
 "nbformat_minor": 2
}
